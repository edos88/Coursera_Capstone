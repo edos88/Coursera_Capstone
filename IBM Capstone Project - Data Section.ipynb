{
    "cells": [
        {
            "cell_type": "markdown",
            "metadata": {},
            "source": "# Loading Data"
        },
        {
            "cell_type": "code",
            "execution_count": 1,
            "metadata": {},
            "outputs": [],
            "source": "import pandas as pd\nimport numpy as np\nimport matplotlib as mpl\nimport matplotlib.pyplot as plt"
        },
        {
            "cell_type": "code",
            "execution_count": 3,
            "metadata": {},
            "outputs": [
                {
                    "data": {
                        "text/html": "<div>\n<style scoped>\n    .dataframe tbody tr th:only-of-type {\n        vertical-align: middle;\n    }\n\n    .dataframe tbody tr th {\n        vertical-align: top;\n    }\n\n    .dataframe thead th {\n        text-align: right;\n    }\n</style>\n<table border=\"1\" class=\"dataframe\">\n  <thead>\n    <tr style=\"text-align: right;\">\n      <th></th>\n      <th>CAP</th>\n      <th>Neighborhood</th>\n      <th>Latitude</th>\n      <th>Longitude</th>\n      <th>Price</th>\n      <th>NTN</th>\n      <th>IMI</th>\n      <th>GdA</th>\n      <th>Trend Eval</th>\n      <th>Perception</th>\n    </tr>\n  </thead>\n  <tbody>\n    <tr>\n      <th>0</th>\n      <td>37121</td>\n      <td>Centro</td>\n      <td>45.44177</td>\n      <td>10.99624</td>\n      <td>3700.0</td>\n      <td>0.041</td>\n      <td>0.0210</td>\n      <td>0.07</td>\n      <td>0.332</td>\n      <td>4</td>\n    </tr>\n    <tr>\n      <th>1</th>\n      <td>37122</td>\n      <td>Cittadella</td>\n      <td>45.43526</td>\n      <td>10.98936</td>\n      <td>2800.0</td>\n      <td>0.177</td>\n      <td>0.0247</td>\n      <td>0.07</td>\n      <td>0.281</td>\n      <td>4</td>\n    </tr>\n    <tr>\n      <th>2</th>\n      <td>37123</td>\n      <td>San Zeno</td>\n      <td>45.44113</td>\n      <td>10.98048</td>\n      <td>2500.0</td>\n      <td>0.177</td>\n      <td>0.0247</td>\n      <td>0.07</td>\n      <td>0.115</td>\n      <td>3</td>\n    </tr>\n    <tr>\n      <th>3</th>\n      <td>37124</td>\n      <td>Parona Pindemonte</td>\n      <td>45.46700</td>\n      <td>10.96454</td>\n      <td>2200.0</td>\n      <td>0.061</td>\n      <td>0.0248</td>\n      <td>0.07</td>\n      <td>0.025</td>\n      <td>2</td>\n    </tr>\n    <tr>\n      <th>4</th>\n      <td>37125</td>\n      <td>Quinzano</td>\n      <td>45.47207</td>\n      <td>10.97446</td>\n      <td>2000.0</td>\n      <td>0.115</td>\n      <td>0.0205</td>\n      <td>0.07</td>\n      <td>-0.031</td>\n      <td>2</td>\n    </tr>\n    <tr>\n      <th>5</th>\n      <td>37126</td>\n      <td>Borgo Treno</td>\n      <td>45.44873</td>\n      <td>10.98823</td>\n      <td>2600.0</td>\n      <td>-0.021</td>\n      <td>0.0248</td>\n      <td>0.07</td>\n      <td>0.045</td>\n      <td>3</td>\n    </tr>\n    <tr>\n      <th>6</th>\n      <td>37127</td>\n      <td>Avesa</td>\n      <td>45.47469</td>\n      <td>10.98902</td>\n      <td>1800.0</td>\n      <td>0.115</td>\n      <td>0.0205</td>\n      <td>0.07</td>\n      <td>-0.276</td>\n      <td>2</td>\n    </tr>\n    <tr>\n      <th>7</th>\n      <td>37128</td>\n      <td>Valdonega</td>\n      <td>45.45665</td>\n      <td>10.99970</td>\n      <td>2900.0</td>\n      <td>-0.032</td>\n      <td>0.0248</td>\n      <td>0.07</td>\n      <td>0.021</td>\n      <td>3</td>\n    </tr>\n    <tr>\n      <th>8</th>\n      <td>37129</td>\n      <td>Veronetta Ponte Pietra</td>\n      <td>45.44232</td>\n      <td>11.00559</td>\n      <td>2500.0</td>\n      <td>-0.239</td>\n      <td>0.0227</td>\n      <td>0.07</td>\n      <td>0.185</td>\n      <td>3</td>\n    </tr>\n    <tr>\n      <th>9</th>\n      <td>37131</td>\n      <td>Borgo Venezia Santa Croce</td>\n      <td>45.44478</td>\n      <td>11.02308</td>\n      <td>2000.0</td>\n      <td>-0.061</td>\n      <td>0.0246</td>\n      <td>0.07</td>\n      <td>0.142</td>\n      <td>2</td>\n    </tr>\n    <tr>\n      <th>10</th>\n      <td>37132</td>\n      <td>San Michele</td>\n      <td>45.42980</td>\n      <td>11.04806</td>\n      <td>1500.0</td>\n      <td>0.065</td>\n      <td>0.0227</td>\n      <td>0.07</td>\n      <td>-0.007</td>\n      <td>1</td>\n    </tr>\n    <tr>\n      <th>11</th>\n      <td>37133</td>\n      <td>Porto San Pancrazio</td>\n      <td>45.43180</td>\n      <td>11.01760</td>\n      <td>1700.0</td>\n      <td>0.083</td>\n      <td>0.0227</td>\n      <td>0.07</td>\n      <td>0.085</td>\n      <td>1</td>\n    </tr>\n    <tr>\n      <th>12</th>\n      <td>37134</td>\n      <td>Borgo Roma</td>\n      <td>45.40904</td>\n      <td>11.00096</td>\n      <td>1600.0</td>\n      <td>0.115</td>\n      <td>0.0248</td>\n      <td>0.07</td>\n      <td>-0.005</td>\n      <td>0</td>\n    </tr>\n    <tr>\n      <th>13</th>\n      <td>37135</td>\n      <td>Fiera ZAI</td>\n      <td>45.39826</td>\n      <td>10.98533</td>\n      <td>1400.0</td>\n      <td>0.243</td>\n      <td>0.0292</td>\n      <td>0.07</td>\n      <td>-0.085</td>\n      <td>0</td>\n    </tr>\n    <tr>\n      <th>14</th>\n      <td>37136</td>\n      <td>Golosine</td>\n      <td>45.41670</td>\n      <td>10.96459</td>\n      <td>1300.0</td>\n      <td>0.120</td>\n      <td>0.0251</td>\n      <td>0.07</td>\n      <td>-0.085</td>\n      <td>0</td>\n    </tr>\n    <tr>\n      <th>15</th>\n      <td>37137</td>\n      <td>Santa Lucia</td>\n      <td>45.41913</td>\n      <td>10.94856</td>\n      <td>1300.0</td>\n      <td>0.112</td>\n      <td>0.0251</td>\n      <td>0.07</td>\n      <td>-0.005</td>\n      <td>1</td>\n    </tr>\n    <tr>\n      <th>16</th>\n      <td>37138</td>\n      <td>Borgo Milano Borgo Nuovo</td>\n      <td>45.44273</td>\n      <td>10.96692</td>\n      <td>1800.0</td>\n      <td>0.106</td>\n      <td>0.0260</td>\n      <td>0.07</td>\n      <td>0.095</td>\n      <td>1</td>\n    </tr>\n    <tr>\n      <th>17</th>\n      <td>37139</td>\n      <td>Chievo San Massimo</td>\n      <td>45.44647</td>\n      <td>10.93405</td>\n      <td>1600.0</td>\n      <td>0.088</td>\n      <td>0.0220</td>\n      <td>0.07</td>\n      <td>0.095</td>\n      <td>2</td>\n    </tr>\n    <tr>\n      <th>18</th>\n      <td>37141</td>\n      <td>Montorio</td>\n      <td>45.47128</td>\n      <td>11.06787</td>\n      <td>1800.0</td>\n      <td>-0.031</td>\n      <td>0.0198</td>\n      <td>0.07</td>\n      <td>-0.057</td>\n      <td>2</td>\n    </tr>\n    <tr>\n      <th>19</th>\n      <td>37142</td>\n      <td>Valpantena</td>\n      <td>45.48726</td>\n      <td>11.02262</td>\n      <td>1800.0</td>\n      <td>-0.047</td>\n      <td>0.0198</td>\n      <td>0.07</td>\n      <td>-0.057</td>\n      <td>2</td>\n    </tr>\n  </tbody>\n</table>\n</div>",
                        "text/plain": "      CAP               Neighborhood  Latitude  Longitude   Price    NTN  \\\n0   37121                     Centro  45.44177   10.99624  3700.0  0.041   \n1   37122                 Cittadella  45.43526   10.98936  2800.0  0.177   \n2   37123                   San Zeno  45.44113   10.98048  2500.0  0.177   \n3   37124          Parona Pindemonte  45.46700   10.96454  2200.0  0.061   \n4   37125                   Quinzano  45.47207   10.97446  2000.0  0.115   \n5   37126                Borgo Treno  45.44873   10.98823  2600.0 -0.021   \n6   37127                      Avesa  45.47469   10.98902  1800.0  0.115   \n7   37128                  Valdonega  45.45665   10.99970  2900.0 -0.032   \n8   37129     Veronetta Ponte Pietra  45.44232   11.00559  2500.0 -0.239   \n9   37131  Borgo Venezia Santa Croce  45.44478   11.02308  2000.0 -0.061   \n10  37132                San Michele  45.42980   11.04806  1500.0  0.065   \n11  37133        Porto San Pancrazio  45.43180   11.01760  1700.0  0.083   \n12  37134                 Borgo Roma  45.40904   11.00096  1600.0  0.115   \n13  37135                  Fiera ZAI  45.39826   10.98533  1400.0  0.243   \n14  37136                   Golosine  45.41670   10.96459  1300.0  0.120   \n15  37137                Santa Lucia  45.41913   10.94856  1300.0  0.112   \n16  37138   Borgo Milano Borgo Nuovo  45.44273   10.96692  1800.0  0.106   \n17  37139         Chievo San Massimo  45.44647   10.93405  1600.0  0.088   \n18  37141                   Montorio  45.47128   11.06787  1800.0 -0.031   \n19  37142                 Valpantena  45.48726   11.02262  1800.0 -0.047   \n\n       IMI   GdA  Trend Eval  Perception  \n0   0.0210  0.07       0.332           4  \n1   0.0247  0.07       0.281           4  \n2   0.0247  0.07       0.115           3  \n3   0.0248  0.07       0.025           2  \n4   0.0205  0.07      -0.031           2  \n5   0.0248  0.07       0.045           3  \n6   0.0205  0.07      -0.276           2  \n7   0.0248  0.07       0.021           3  \n8   0.0227  0.07       0.185           3  \n9   0.0246  0.07       0.142           2  \n10  0.0227  0.07      -0.007           1  \n11  0.0227  0.07       0.085           1  \n12  0.0248  0.07      -0.005           0  \n13  0.0292  0.07      -0.085           0  \n14  0.0251  0.07      -0.085           0  \n15  0.0251  0.07      -0.005           1  \n16  0.0260  0.07       0.095           1  \n17  0.0220  0.07       0.095           2  \n18  0.0198  0.07      -0.057           2  \n19  0.0198  0.07      -0.057           2  "
                    },
                    "execution_count": 3,
                    "metadata": {},
                    "output_type": "execute_result"
                }
            ],
            "source": "df_data_1 = pd.read_csv(body, sep=';')\ndf_data_1"
        },
        {
            "cell_type": "markdown",
            "metadata": {},
            "source": "# Data Section"
        },
        {
            "cell_type": "markdown",
            "metadata": {},
            "source": "In order to elaborate this work and execute my idea, I used the datas listed as below.\n\n\n\nFirst, I created a **Master dataset** composed as follows:\n\n1. _\u201cCAP\u201d_ : the list of all postcodes of Verona;\n\n\n2. _\u201cNeighborhood\u201d_ : the names of districts;\n\n\n3. _\u201cLongitude/Latitude\u201d_ : the center coordinates of each Borough (export function from OpenStreetMap [5]);\n\n\n4. _\u201cPrice\u201d_ : latest housing sales price averages of each Borough (from Italian Tax Revenue Agency \u2013 Housing Prices Dataset 2018 [6]);\n\n\n5. _\u201cNTN\u201d_ : Number of Normalized Trades,  the number of property trades, made in a given time period, in relation to the ownership shares being traded (from Italian Tax Revenue Agency \u2013 Housing Market Observatory 2018 [7]);\n\n\n6. _\u201cIMI\u201d_ :  Intensity of Housing Market, the ratio between the number of standardized trades for sale (NTN) and the relative stock (from Italian Tax Revenue Agency \u2013 Housing Market Observatory 2018 [7]);\n\n\n7. _\u201cGdA\u201d_ : degree of attraction, the appeal of the city centre compared to suburbs (from Italian Tax Revenue Agency \u2013 Housing Market Observatory 2018 [7]);\n\n\n8. _\u201cTrend Eval\u201d_ : this measure represents how time has affected housing prices between 2014 and 2018 (from Italian Tax Revenue Agency Housing Prices Dataset 2018 [6]);\n\n\n9. _\u201cPerception\u201d_ : in an ascending scale from 0 to 4, represents how each district is perceived by local buyers (from Italian Tax Revenue Agency \u2013 Housing Prices Dataset [6]).\n\n\nIn addition to this dataset, I used **Foursquare API** to get the most common venues of each Borough of Verona (from Foursquare [8]).\n\nI also had to create a GEOjson file to be able to create a Choropleth Map. Using **ARCGIS Online**, I added some layers to a OpenStreetMap: a layer to create boundaries of each district and another layer including datas, like \u201cCAP\u201d, to join master dataset to Choropleth Map (from ARCGIS Online platform [9]).\n"
        },
        {
            "cell_type": "markdown",
            "metadata": {},
            "source": "# References"
        },
        {
            "cell_type": "markdown",
            "metadata": {},
            "source": "[1]  Verona - Wikipedia https://it.wikipedia.org/wiki/Verona\n\n[2] TNE T - European Commission https://ec.europa.eu/transport/node/2443\n\n[3] Universit\u00e0 degli studi di Verona - UniVR https://www.univr.it/it/univerona-in-cifre\n\n[4]  Turismo in Italia - Wikipedia https://it.wikipedia.org/wiki/Turismo_in_Italia\n\n[5] Coordinates - OpenStreetMap https://www.openstreetmap.org/export#map\n\n[6] Housing Prices Dataset 2018 - Italian Tax Revenue Agency https://wwwt.agenziaentrate.gov.it/servizi/Consultazione/ricerca.htm\n\n[7] Housing Market Observatory 2018 - Italian Tax Revenue Agency https://www.agenziaentrate.gov.it/portale/web/guest/schede/fabbricatiterreni/omi/pubblicazioni/statistiche-regionali\n\n[8] API - Foursquare https://developer.foursquare.com\n\n[9] Online platform - ARCGIS https://www.esri.com/it-it/arcgis/products/arcgis-online/overview\n"
        },
        {
            "cell_type": "code",
            "execution_count": null,
            "metadata": {},
            "outputs": [],
            "source": ""
        }
    ],
    "metadata": {
        "kernelspec": {
            "display_name": "Python 3.6",
            "language": "python",
            "name": "python3"
        },
        "language_info": {
            "codemirror_mode": {
                "name": "ipython",
                "version": 3
            },
            "file_extension": ".py",
            "mimetype": "text/x-python",
            "name": "python",
            "nbconvert_exporter": "python",
            "pygments_lexer": "ipython3",
            "version": "3.6.8"
        }
    },
    "nbformat": 4,
    "nbformat_minor": 1
}