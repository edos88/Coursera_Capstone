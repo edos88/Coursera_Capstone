{
    "cells": [
        {
            "cell_type": "markdown",
            "metadata": {
                "collapsed": true
            },
            "source": "# Introduction section "
        },
        {
            "cell_type": "markdown",
            "metadata": {},
            "source": "I decided to analize Verona (Italy) mainly because I am native and I deeply know the economic and social fabric.\n<br>\n<br>\nVerona is the 12th-largest city by population in Italy  and the 2nd in Veneto (258.705 abitants), with a high population density of  1.300 people per square kilometer and is divided into 19 postal district, reflecting pretty closely specific territorial features. This city is located at the strategic intersection of Trans-European Transport Network Corridor 1 and Corridor 6 (from European Commission [2]). Verona has the 15th-largest airport by number of passengers in Italy (3.459.807 passengers) (from Wikipedia [1]).\n\nUniversity of Verona is the 24th-largest University by enrolled students in Italy (24.728 students) (from UniVR [3]).\n\nRegarding information about tourism, Verona city is the 22th-most visited city in Italy (2.317.359 visitors), but the whole province reaches the 6th place (at least  9.433.507 visitors) including main other areas near the Garda lake (from Wikipedia [4]).  \n<br>\n\nThere is a number of _factors that should be considered_:\n\n\n1. Central districts are increasingly crowded and more expensive due to the increase in tourism;\n\n\n2. Districts near the University have seen a sharply rise in price due to the high demand of rent by students and a growth of  places of leisure ( and a more intense nightlife);\n\n\n3. Industrial and Exhibition (ZAI) district has been restored and redeveloped;\n\n\n4. A major trend of locals is to buy a house, or a flat, in periferal districts or to rent smaller accomodations near the center, because of the high prices and urban mobility problems.\n\n\n5. Another recognizable trend is the polarization of  business activities in the city: smaller shops and social sharing places concentrate in the city centre, while shopping malls are more common in periferic districts.\n<br>\n<br>\n\n**An investor should take into account these factors**: a positive evalation trend in prices of houses could be the outcome of different elements, such as high demand of rent by increasing number of university students or restore and redevelopment of  the industrial district.\n\nThe _aim of this work_ is to identify the better performing districts about price, then to find out factors that could cause this effect and, finally, to provide a guide and some new relevant informations to a potential investor.\n"
        },
        {
            "cell_type": "markdown",
            "metadata": {},
            "source": "# References"
        },
        {
            "cell_type": "markdown",
            "metadata": {},
            "source": "[1]  Verona - Wikipedia https://it.wikipedia.org/wiki/Verona\n\n[2] TNE T - European Commission https://ec.europa.eu/transport/node/2443\n\n[3] Universit\u00e0 degli studi di Verona - UniVR https://www.univr.it/it/univerona-in-cifre\n\n[4]  Turismo in Italia - Wikipedia https://it.wikipedia.org/wiki/Turismo_in_Italia\n\n[5] Coordinates - OpenStreetMap https://www.openstreetmap.org/export#map\n\n[6] Housing Prices Dataset 2018 - Italian Tax Revenue Agency https://wwwt.agenziaentrate.gov.it/servizi/Consultazione/ricerca.htm\n\n[7] Housing Market Observatory 2018 - Italian Tax Revenue Agency https://www.agenziaentrate.gov.it/portale/web/guest/schede/fabbricatiterreni/omi/pubblicazioni/statistiche-regionali\n\n[8] API - Foursquare https://developer.foursquare.com\n\n[9] Online platform - ARCGIS https://www.esri.com/it-it/arcgis/products/arcgis-online/overview\n\n"
        },
        {
            "cell_type": "code",
            "execution_count": null,
            "metadata": {},
            "outputs": [],
            "source": ""
        }
    ],
    "metadata": {
        "kernelspec": {
            "display_name": "Python 3.6",
            "language": "python",
            "name": "python3"
        },
        "language_info": {
            "codemirror_mode": {
                "name": "ipython",
                "version": 3
            },
            "file_extension": ".py",
            "mimetype": "text/x-python",
            "name": "python",
            "nbconvert_exporter": "python",
            "pygments_lexer": "ipython3",
            "version": "3.6.8"
        }
    },
    "nbformat": 4,
    "nbformat_minor": 1
}